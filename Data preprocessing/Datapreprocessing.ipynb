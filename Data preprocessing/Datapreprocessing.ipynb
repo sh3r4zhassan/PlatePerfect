{
 "cells": [
  {
   "cell_type": "code",
   "execution_count": 8,
   "id": "5eea3582",
   "metadata": {},
   "outputs": [
    {
     "name": "stdout",
     "output_type": "stream",
     "text": [
      "DataFrame of Pixel Values:\n",
      "         Blue  Green  Red\n",
      "0          0      0    0\n",
      "1          0      0    0\n",
      "2          0      0    0\n",
      "3          0      0    0\n",
      "4          0      0    0\n",
      "...      ...    ...  ...\n",
      "297985     0      0    0\n",
      "297986     0      0    0\n",
      "297987     0      0    0\n",
      "297988     0      0    0\n",
      "297989     0      0    0\n",
      "\n",
      "[297990 rows x 3 columns]\n"
     ]
    }
   ],
   "source": [
    "import cv2\n",
    "import pandas as pd\n",
    "import numpy as np\n",
    "\n",
    "# Function to read image, convert pixel values to DataFrame, and display it\n",
    "def image_to_dataframe(image_path):\n",
    "    # Read the image\n",
    "    image = cv2.imread(image_path)\n",
    "\n",
    "    # Check if the image was successfully loaded\n",
    "    if image is not None:\n",
    "        # Convert the image array to a Pandas DataFrame\n",
    "        df = pd.DataFrame(np.reshape(image, (image.shape[0] * image.shape[1], image.shape[2])),\n",
    "                          columns=['Blue', 'Green', 'Red'])\n",
    "\n",
    "        # Display the DataFrame\n",
    "        print(\"DataFrame of Pixel Values:\\n\", df)\n",
    "        return df\n",
    "\n",
    "        # Display the image\n",
    "#         cv2.imshow('Image', image)\n",
    "\n",
    "#         # Wait for a key press and then close the window\n",
    "#         cv2.waitKey(0)\n",
    "#         cv2.destroyAllWindows()\n",
    "    else:\n",
    "        print(\"Error: Unable to read the image.\")\n",
    "\n",
    "# Example usage\n",
    "image_path = '16776.png'  # Replace with the actual path to your image\n",
    "df=image_to_dataframe(image_path)\n"
   ]
  },
  {
   "cell_type": "code",
   "execution_count": 10,
   "id": "fcbe2a15",
   "metadata": {},
   "outputs": [
    {
     "name": "stdout",
     "output_type": "stream",
     "text": [
      "Unique values in the DataFrame:\n",
      " Blue         [0]\n",
      "Green        [0]\n",
      "Red      [0, 59]\n",
      "dtype: object\n"
     ]
    }
   ],
   "source": [
    "# Display unique values in the DataFrame\n",
    "unique_values = df.apply(lambda x: x.unique())\n",
    "print(\"Unique values in the DataFrame:\\n\", unique_values)"
   ]
  }
 ],
 "metadata": {
  "kernelspec": {
   "display_name": "Python 3 (ipykernel)",
   "language": "python",
   "name": "python3"
  },
  "language_info": {
   "codemirror_mode": {
    "name": "ipython",
    "version": 3
   },
   "file_extension": ".py",
   "mimetype": "text/x-python",
   "name": "python",
   "nbconvert_exporter": "python",
   "pygments_lexer": "ipython3",
   "version": "3.11.4"
  }
 },
 "nbformat": 4,
 "nbformat_minor": 5
}
