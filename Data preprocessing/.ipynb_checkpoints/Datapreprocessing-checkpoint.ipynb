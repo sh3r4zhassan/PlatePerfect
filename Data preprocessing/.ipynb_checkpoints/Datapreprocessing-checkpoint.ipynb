{
 "cells": [
  {
   "cell_type": "code",
   "execution_count": 1,
   "id": "07bbdd29",
   "metadata": {},
   "outputs": [],
   "source": [
    "import cv2\n",
    "import numpy as np"
   ]
  },
  {
   "cell_type": "code",
   "execution_count": 2,
   "id": "c8f398b7",
   "metadata": {},
   "outputs": [],
   "source": [
    "\n",
    "\n",
    "# # Function to read image, display pixel values, and save them to a text file\n",
    "# def save_image_values(image_path, output_txt_path):\n",
    "#     # Read the image\n",
    "#     image = cv2.imread(image_path)\n",
    "\n",
    "#     # Check if the image was successfully loaded\n",
    "#     if image is not None:\n",
    "#         # Print the pixel values (BGR format) in a matrix\n",
    "#         print(\"Pixel values matrix (BGR format):\\n\", image)\n",
    "\n",
    "#         # Save the pixel values to a text file\n",
    "#         with open(output_txt_path, 'w') as txt_file:\n",
    "#             np.savetxt(txt_file, image, fmt='%d', delimiter='\\t')\n",
    "\n",
    "#         print(f\"Pixel values saved to: {output_txt_path}\")\n",
    "\n",
    "#         # Display the image\n",
    "\n",
    "#         # Wait for a key press and then close the window\n",
    "\n",
    "#     else:\n",
    "#         print(\"Error: Unable to read the image.\")\n",
    "\n",
    "# # Example usage\n",
    "# image_path = '25.png'  # Replace with the actual path to your image\n",
    "# output_txt_path = 'output.txt'  # Replace with the desired output text file path\n",
    "# save_image_values(image_path, output_txt_path)\n",
    "\n",
    "# #\n"
   ]
  },
  {
   "cell_type": "code",
   "execution_count": 8,
   "id": "5eea3582",
   "metadata": {},
   "outputs": [
    {
     "name": "stdout",
     "output_type": "stream",
     "text": [
      "DataFrame of Pixel Values:\n",
      "         Blue  Green  Red\n",
      "0          0      0    0\n",
      "1          0      0    0\n",
      "2          0      0    0\n",
      "3          0      0    0\n",
      "4          0      0    0\n",
      "...      ...    ...  ...\n",
      "297985     0      0    0\n",
      "297986     0      0    0\n",
      "297987     0      0    0\n",
      "297988     0      0    0\n",
      "297989     0      0    0\n",
      "\n",
      "[297990 rows x 3 columns]\n"
     ]
    }
   ],
   "source": [
    "import cv2\n",
    "import pandas as pd\n",
    "import numpy as np\n",
    "\n",
    "# Function to read image, convert pixel values to DataFrame, and display it\n",
    "def image_to_dataframe(image_path):\n",
    "    # Read the image\n",
    "    image = cv2.imread(image_path)\n",
    "\n",
    "    # Check if the image was successfully loaded\n",
    "    if image is not None:\n",
    "        # Convert the image array to a Pandas DataFrame\n",
    "        df = pd.DataFrame(np.reshape(image, (image.shape[0] * image.shape[1], image.shape[2])),\n",
    "                          columns=['Blue', 'Green', 'Red'])\n",
    "\n",
    "        # Display the DataFrame\n",
    "        print(\"DataFrame of Pixel Values:\\n\", df)\n",
    "        return df\n",
    "\n",
    "        # Display the image\n",
    "#         cv2.imshow('Image', image)\n",
    "\n",
    "#         # Wait for a key press and then close the window\n",
    "#         cv2.waitKey(0)\n",
    "#         cv2.destroyAllWindows()\n",
    "    else:\n",
    "        print(\"Error: Unable to read the image.\")\n",
    "\n",
    "# Example usage\n",
    "image_path = '16776.png'  # Replace with the actual path to your image\n",
    "df=image_to_dataframe(image_path)\n"
   ]
  },
  {
   "cell_type": "code",
   "execution_count": 9,
   "id": "44c53f50",
   "metadata": {},
   "outputs": [
    {
     "data": {
      "text/html": [
       "<div>\n",
       "<style scoped>\n",
       "    .dataframe tbody tr th:only-of-type {\n",
       "        vertical-align: middle;\n",
       "    }\n",
       "\n",
       "    .dataframe tbody tr th {\n",
       "        vertical-align: top;\n",
       "    }\n",
       "\n",
       "    .dataframe thead th {\n",
       "        text-align: right;\n",
       "    }\n",
       "</style>\n",
       "<table border=\"1\" class=\"dataframe\">\n",
       "  <thead>\n",
       "    <tr style=\"text-align: right;\">\n",
       "      <th></th>\n",
       "      <th>Blue</th>\n",
       "      <th>Green</th>\n",
       "      <th>Red</th>\n",
       "    </tr>\n",
       "  </thead>\n",
       "  <tbody>\n",
       "    <tr>\n",
       "      <th>0</th>\n",
       "      <td>0</td>\n",
       "      <td>0</td>\n",
       "      <td>0</td>\n",
       "    </tr>\n",
       "    <tr>\n",
       "      <th>1</th>\n",
       "      <td>0</td>\n",
       "      <td>0</td>\n",
       "      <td>0</td>\n",
       "    </tr>\n",
       "    <tr>\n",
       "      <th>2</th>\n",
       "      <td>0</td>\n",
       "      <td>0</td>\n",
       "      <td>0</td>\n",
       "    </tr>\n",
       "    <tr>\n",
       "      <th>3</th>\n",
       "      <td>0</td>\n",
       "      <td>0</td>\n",
       "      <td>0</td>\n",
       "    </tr>\n",
       "    <tr>\n",
       "      <th>4</th>\n",
       "      <td>0</td>\n",
       "      <td>0</td>\n",
       "      <td>0</td>\n",
       "    </tr>\n",
       "    <tr>\n",
       "      <th>...</th>\n",
       "      <td>...</td>\n",
       "      <td>...</td>\n",
       "      <td>...</td>\n",
       "    </tr>\n",
       "    <tr>\n",
       "      <th>297985</th>\n",
       "      <td>0</td>\n",
       "      <td>0</td>\n",
       "      <td>0</td>\n",
       "    </tr>\n",
       "    <tr>\n",
       "      <th>297986</th>\n",
       "      <td>0</td>\n",
       "      <td>0</td>\n",
       "      <td>0</td>\n",
       "    </tr>\n",
       "    <tr>\n",
       "      <th>297987</th>\n",
       "      <td>0</td>\n",
       "      <td>0</td>\n",
       "      <td>0</td>\n",
       "    </tr>\n",
       "    <tr>\n",
       "      <th>297988</th>\n",
       "      <td>0</td>\n",
       "      <td>0</td>\n",
       "      <td>0</td>\n",
       "    </tr>\n",
       "    <tr>\n",
       "      <th>297989</th>\n",
       "      <td>0</td>\n",
       "      <td>0</td>\n",
       "      <td>0</td>\n",
       "    </tr>\n",
       "  </tbody>\n",
       "</table>\n",
       "<p>297990 rows × 3 columns</p>\n",
       "</div>"
      ],
      "text/plain": [
       "        Blue  Green  Red\n",
       "0          0      0    0\n",
       "1          0      0    0\n",
       "2          0      0    0\n",
       "3          0      0    0\n",
       "4          0      0    0\n",
       "...      ...    ...  ...\n",
       "297985     0      0    0\n",
       "297986     0      0    0\n",
       "297987     0      0    0\n",
       "297988     0      0    0\n",
       "297989     0      0    0\n",
       "\n",
       "[297990 rows x 3 columns]"
      ]
     },
     "execution_count": 9,
     "metadata": {},
     "output_type": "execute_result"
    }
   ],
   "source": [
    "df"
   ]
  },
  {
   "cell_type": "code",
   "execution_count": 10,
   "id": "fcbe2a15",
   "metadata": {},
   "outputs": [
    {
     "name": "stdout",
     "output_type": "stream",
     "text": [
      "Unique values in the DataFrame:\n",
      " Blue         [0]\n",
      "Green        [0]\n",
      "Red      [0, 59]\n",
      "dtype: object\n"
     ]
    }
   ],
   "source": [
    "# Display unique values in the DataFrame\n",
    "unique_values = df.apply(lambda x: x.unique())\n",
    "print(\"Unique values in the DataFrame:\\n\", unique_values)"
   ]
  },
  {
   "cell_type": "code",
   "execution_count": 11,
   "id": "6841a823",
   "metadata": {},
   "outputs": [
    {
     "data": {
      "text/html": [
       "<div>\n",
       "<style scoped>\n",
       "    .dataframe tbody tr th:only-of-type {\n",
       "        vertical-align: middle;\n",
       "    }\n",
       "\n",
       "    .dataframe tbody tr th {\n",
       "        vertical-align: top;\n",
       "    }\n",
       "\n",
       "    .dataframe thead th {\n",
       "        text-align: right;\n",
       "    }\n",
       "</style>\n",
       "<table border=\"1\" class=\"dataframe\">\n",
       "  <thead>\n",
       "    <tr style=\"text-align: right;\">\n",
       "      <th></th>\n",
       "      <th>Blue</th>\n",
       "      <th>Green</th>\n",
       "      <th>Red</th>\n",
       "    </tr>\n",
       "  </thead>\n",
       "  <tbody>\n",
       "  </tbody>\n",
       "</table>\n",
       "</div>"
      ],
      "text/plain": [
       "Empty DataFrame\n",
       "Columns: [Blue, Green, Red]\n",
       "Index: []"
      ]
     },
     "execution_count": 11,
     "metadata": {},
     "output_type": "execute_result"
    }
   ],
   "source": [
    "df[df['Red']==83]"
   ]
  },
  {
   "cell_type": "code",
   "execution_count": null,
   "id": "b9300ffb",
   "metadata": {},
   "outputs": [],
   "source": []
  }
 ],
 "metadata": {
  "kernelspec": {
   "display_name": "Python 3 (ipykernel)",
   "language": "python",
   "name": "python3"
  },
  "language_info": {
   "codemirror_mode": {
    "name": "ipython",
    "version": 3
   },
   "file_extension": ".py",
   "mimetype": "text/x-python",
   "name": "python",
   "nbconvert_exporter": "python",
   "pygments_lexer": "ipython3",
   "version": "3.11.4"
  }
 },
 "nbformat": 4,
 "nbformat_minor": 5
}
